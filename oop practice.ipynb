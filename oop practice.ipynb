{
 "cells": [
  {
   "cell_type": "markdown",
   "metadata": {},
   "source": [
    "when we use inbuilt classes and objects in python, we call call methods off of them like .method_name() syntax. When we use inbuilt objects or classes in python, we are able to call methods on them using the .method_name() syntax.\n",
    "when we define an inbuilt object or class then we are able to call methods on the the object or class using the .method_name() syntax"
   ]
  },
  {
   "cell_type": "code",
   "execution_count": 1,
   "metadata": {},
   "outputs": [],
   "source": [
    "# oop allows us to create code that is repeatable and organised\n",
    "# oop allows us to create code which is repeatable and organised.\n",
    "# oop allows us to create code which is repeatable and organised.\n",
    "# oop allows us to create code which is repeatable and organised.\n",
    "# oop allows us to create code which is repeatable and organised.\n",
    "# oop allowsus to create code which is repeatable and orgamisd.\n",
    "# oop allows us to create code which is repeatable and organised.\n",
    "# oop allows us to create our own objects and classes which are used to create code which is repeatable and organised."
   ]
  },
  {
   "cell_type": "code",
   "execution_count": null,
   "metadata": {},
   "outputs": [],
   "source": []
  }
 ],
 "metadata": {
  "kernelspec": {
   "display_name": "Python 3",
   "language": "python",
   "name": "python3"
  },
  "language_info": {
   "codemirror_mode": {
    "name": "ipython",
    "version": 3
   },
   "file_extension": ".py",
   "mimetype": "text/x-python",
   "name": "python",
   "nbconvert_exporter": "python",
   "pygments_lexer": "ipython3",
   "version": "3.8.3"
  }
 },
 "nbformat": 4,
 "nbformat_minor": 4
}
