{
 "cells": [
  {
   "cell_type": "code",
   "execution_count": 14,
   "metadata": {},
   "outputs": [],
   "source": [
    "# game practice"
   ]
  },
  {
   "cell_type": "code",
   "execution_count": 15,
   "metadata": {},
   "outputs": [],
   "source": [
    "from random import shuffle"
   ]
  },
  {
   "cell_type": "code",
   "execution_count": 16,
   "metadata": {},
   "outputs": [],
   "source": [
    "def shuffler(listt):                            # FUNCTION 1\n",
    "    shuffle(listt)\n",
    "    return listt"
   ]
  },
  {
   "cell_type": "code",
   "execution_count": 17,
   "metadata": {},
   "outputs": [],
   "source": [
    "game_list = [\"\", \"O\", \"\"]"
   ]
  },
  {
   "cell_type": "code",
   "execution_count": 18,
   "metadata": {},
   "outputs": [],
   "source": [
    "def player_guess():                              # FUNCTION 2\n",
    "    guess = \"\"    \n",
    "    while guess not in [\"0\", \"1\", \"2\"]:\n",
    "        guess = input(\"enter your guess: 0, 1 or 2:\")\n",
    "    return int(guess)"
   ]
  },
  {
   "cell_type": "code",
   "execution_count": 19,
   "metadata": {},
   "outputs": [
    {
     "name": "stdout",
     "output_type": "stream",
     "text": [
      "enter your guess: 0, 1 or 2:\n",
      "enter your guess: 0, 1 or 2:\n",
      "enter your guess: 0, 1 or 2:2\n"
     ]
    }
   ],
   "source": [
    "player_index = player_guess()"
   ]
  },
  {
   "cell_type": "code",
   "execution_count": 20,
   "metadata": {},
   "outputs": [
    {
     "data": {
      "text/plain": [
       "2"
      ]
     },
     "execution_count": 20,
     "metadata": {},
     "output_type": "execute_result"
    }
   ],
   "source": [
    "player_index"
   ]
  },
  {
   "cell_type": "code",
   "execution_count": 21,
   "metadata": {},
   "outputs": [],
   "source": [
    "# now we make a 3rd function whch combines the outputsof the first and second functon to give final result"
   ]
  },
  {
   "cell_type": "code",
   "execution_count": 22,
   "metadata": {},
   "outputs": [],
   "source": [
    "def check_guess(listt, guess):\n",
    "    if game_list[guess] == \"O\":\n",
    "        print(\"you won\")\n",
    "        print(game_list)\n",
    "    else:\n",
    "        print(\"lost\")\n",
    "        print(game_list)"
   ]
  },
  {
   "cell_type": "code",
   "execution_count": 31,
   "metadata": {},
   "outputs": [
    {
     "name": "stdout",
     "output_type": "stream",
     "text": [
      "enter your guess: 0, 1 or 2:0\n",
      "you won\n",
      "['O', '', '']\n"
     ]
    }
   ],
   "source": [
    "game_list = [\"\", \"O\", \"\"]\n",
    "\n",
    "shuffled_game_list = shuffler(game_list)\n",
    "\n",
    "guess = player_guess()\n",
    "\n",
    "check_guess(shuffled_game_list, guess)"
   ]
  },
  {
   "cell_type": "code",
   "execution_count": null,
   "metadata": {},
   "outputs": [],
   "source": []
  },
  {
   "cell_type": "code",
   "execution_count": null,
   "metadata": {},
   "outputs": [],
   "source": []
  }
 ],
 "metadata": {
  "kernelspec": {
   "display_name": "Python 3",
   "language": "python",
   "name": "python3"
  },
  "language_info": {
   "codemirror_mode": {
    "name": "ipython",
    "version": 3
   },
   "file_extension": ".py",
   "mimetype": "text/x-python",
   "name": "python",
   "nbconvert_exporter": "python",
   "pygments_lexer": "ipython3",
   "version": "3.8.3"
  }
 },
 "nbformat": 4,
 "nbformat_minor": 4
}
