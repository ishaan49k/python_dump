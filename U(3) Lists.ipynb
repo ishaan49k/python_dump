{
 "cells": [
  {
   "cell_type": "code",
   "execution_count": 1,
   "metadata": {},
   "outputs": [
    {
     "name": "stdout",
     "output_type": "stream",
     "text": [
      "2\n",
      "alice\n",
      "['teddy', 'alice', 2]\n"
     ]
    }
   ],
   "source": [
    "# indexing and slicing of lists are the same as in strings\n",
    "\n",
    "a = [\"sam\", \"teddy\", \"alice\", 2, 3 , 4]\n",
    "\n",
    "print(a[3])\n",
    "print(a[2])\n",
    "print(a[1:4])"
   ]
  },
  {
   "cell_type": "code",
   "execution_count": 2,
   "metadata": {},
   "outputs": [
    {
     "name": "stdout",
     "output_type": "stream",
     "text": [
      "['sam', 'teddy', 'alice', 2, 3, 4, 'earth', 'mars', 'venus']\n"
     ]
    }
   ],
   "source": [
    "# concatonation of lists works in the same way as in strings\n",
    "b = [\"earth\", \"mars\", \"venus\"]\n",
    "print(a + b)"
   ]
  },
  {
   "cell_type": "code",
   "execution_count": 3,
   "metadata": {},
   "outputs": [
    {
     "name": "stdout",
     "output_type": "stream",
     "text": [
      "[1, 'new value', 3, 4]\n"
     ]
    }
   ],
   "source": [
    "# unlike strings, lists are mutable. ie we can switch the entries of a list by using a temp variable.\n",
    "\n",
    "c = [1, 2, 3, 4]\n",
    "# to change the 2nd element of the list, we can just change assign it a new value\n",
    "c[1] = \"new value\"\n",
    "print(c)"
   ]
  },
  {
   "cell_type": "code",
   "execution_count": 4,
   "metadata": {},
   "outputs": [],
   "source": [
    "popped_item = c.pop()"
   ]
  },
  {
   "cell_type": "code",
   "execution_count": 5,
   "metadata": {},
   "outputs": [
    {
     "data": {
      "text/plain": [
       "4"
      ]
     },
     "execution_count": 5,
     "metadata": {},
     "output_type": "execute_result"
    }
   ],
   "source": [
    "popped_item"
   ]
  },
  {
   "cell_type": "code",
   "execution_count": 6,
   "metadata": {},
   "outputs": [
    {
     "data": {
      "text/plain": [
       "[1, 'new value', 3]"
      ]
     },
     "execution_count": 6,
     "metadata": {},
     "output_type": "execute_result"
    }
   ],
   "source": [
    "c"
   ]
  },
  {
   "cell_type": "code",
   "execution_count": 7,
   "metadata": {},
   "outputs": [
    {
     "data": {
      "text/plain": [
       "'mars'"
      ]
     },
     "execution_count": 7,
     "metadata": {},
     "output_type": "execute_result"
    }
   ],
   "source": [
    "# to remove any entry of the list, pass the index in .pop()\n",
    "b.pop(1)     # when we pop an item, jupyter nb returns that item."
   ]
  },
  {
   "cell_type": "code",
   "execution_count": 8,
   "metadata": {},
   "outputs": [
    {
     "data": {
      "text/plain": [
       "['earth', 'venus']"
      ]
     },
     "execution_count": 8,
     "metadata": {},
     "output_type": "execute_result"
    }
   ],
   "source": [
    "b"
   ]
  },
  {
   "cell_type": "code",
   "execution_count": 9,
   "metadata": {},
   "outputs": [],
   "source": [
    "letter_list = [\"a\", \"d\", \"p\", \"z\"]\n",
    "num_list = [20, 1, 100, 9, 49]"
   ]
  },
  {
   "cell_type": "code",
   "execution_count": 10,
   "metadata": {},
   "outputs": [],
   "source": [
    "# to sort letter_list in alphabetical order, use .sort() function\n",
    "letter_list.sort()  # when we run this, it dosent return anythin. \n",
    "# since it dosent return anythin when run, we cant do new_list = letter_list.sort() as there is nothing to assign"
   ]
  },
  {
   "cell_type": "code",
   "execution_count": 11,
   "metadata": {},
   "outputs": [
    {
     "data": {
      "text/plain": [
       "['a', 'd', 'p', 'z']"
      ]
     },
     "execution_count": 11,
     "metadata": {},
     "output_type": "execute_result"
    }
   ],
   "source": [
    "letter_list"
   ]
  },
  {
   "cell_type": "code",
   "execution_count": 12,
   "metadata": {},
   "outputs": [],
   "source": [
    "num_list.sort()\n",
    "# to sort the numbers in ascendin order."
   ]
  },
  {
   "cell_type": "code",
   "execution_count": 13,
   "metadata": {},
   "outputs": [
    {
     "data": {
      "text/plain": [
       "[1, 9, 20, 49, 100]"
      ]
     },
     "execution_count": 13,
     "metadata": {},
     "output_type": "execute_result"
    }
   ],
   "source": [
    "num_list"
   ]
  },
  {
   "cell_type": "code",
   "execution_count": 14,
   "metadata": {},
   "outputs": [],
   "source": [
    "# .reverse() is used to reverce all the entries in the list.\n",
    "num_list.reverse()"
   ]
  },
  {
   "cell_type": "code",
   "execution_count": 15,
   "metadata": {},
   "outputs": [
    {
     "data": {
      "text/plain": [
       "[100, 49, 20, 9, 1]"
      ]
     },
     "execution_count": 15,
     "metadata": {},
     "output_type": "execute_result"
    }
   ],
   "source": [
    "num_list"
   ]
  },
  {
   "cell_type": "code",
   "execution_count": 1,
   "metadata": {},
   "outputs": [],
   "source": [
    "l1 = [\"a\", \"b\", \"c\"]\n",
    "x = l1.pop(0)"
   ]
  },
  {
   "cell_type": "code",
   "execution_count": 2,
   "metadata": {},
   "outputs": [
    {
     "data": {
      "text/plain": [
       "'a'"
      ]
     },
     "execution_count": 2,
     "metadata": {},
     "output_type": "execute_result"
    }
   ],
   "source": [
    "x"
   ]
  },
  {
   "cell_type": "code",
   "execution_count": 3,
   "metadata": {},
   "outputs": [
    {
     "data": {
      "text/plain": [
       "['b', 'c']"
      ]
     },
     "execution_count": 3,
     "metadata": {},
     "output_type": "execute_result"
    }
   ],
   "source": [
    "l1"
   ]
  },
  {
   "cell_type": "code",
   "execution_count": 6,
   "metadata": {},
   "outputs": [
    {
     "name": "stdout",
     "output_type": "stream",
     "text": [
      "enter the name of cat 1 or enter nothing to stop: \n",
      "\n",
      "my cats are:\n"
     ]
    }
   ],
   "source": [
    "# programme used to store the names of all cats:\n",
    "\n",
    "my_cats = []\n",
    "\n",
    "while True:\n",
    "    print(\"enter the name of cat \" + str(len(my_cats)+ 1) + \" or enter nothing to stop: \")\n",
    "    name = input()\n",
    "    if name == \"\":\n",
    "        break\n",
    "    my_cats = my_cats + [name]   # list concatonation\n",
    "    \n",
    "print(\"my cats are:\")\n",
    "for ele in my_cats:\n",
    "    print(ele)"
   ]
  },
  {
   "cell_type": "code",
   "execution_count": 8,
   "metadata": {},
   "outputs": [
    {
     "name": "stdout",
     "output_type": "stream",
     "text": [
      "write name of cat 1 here and write end it to stopsam\n",
      "write name of cat 2 here and write end it to stopbob\n",
      "write name of cat 3 here and write end it to stoptod\n",
      "write name of cat 4 here and write end it to stopend it\n",
      "the name cats are:\n",
      "sam\n",
      "bob\n",
      "tod\n"
     ]
    }
   ],
   "source": [
    "cat_list = []\n",
    "\n",
    "while True:\n",
    "    name = input(\"write name of cat \" + str(len(cat_list)+1) + \" here and write end it to stop\")\n",
    "    if name == \"end it\":\n",
    "        break\n",
    "    cat_list += [name]\n",
    "    \n",
    "print(\"the name cats are:\")\n",
    "for ele in cat_list:\n",
    "    print(ele)\n",
    "\n",
    "    "
   ]
  },
  {
   "cell_type": "markdown",
   "metadata": {},
   "source": [
    "so we can use a list to store the names of many similar values."
   ]
  },
  {
   "cell_type": "code",
   "execution_count": 9,
   "metadata": {},
   "outputs": [
    {
     "name": "stdout",
     "output_type": "stream",
     "text": [
      "write your favorite city here: bangalore\n",
      "chennai sucks\n",
      "write your favorite city here: kolkata\n",
      "chennai sucks\n",
      "write your favorite city here: chennai\n",
      "bangalore\n",
      "kolkata\n"
     ]
    }
   ],
   "source": [
    "cities = []\n",
    "\n",
    "while True:\n",
    "    name = input(\"write your favorite city here: \") \n",
    "    if name == \"chennai\":\n",
    "        break\n",
    "    print(\"chennai sucks\")\n",
    "    cities += [name]\n",
    "    \n",
    "for ele in cities:\n",
    "    print(ele)\n",
    "    \n",
    "    \n"
   ]
  },
  {
   "cell_type": "code",
   "execution_count": 14,
   "metadata": {},
   "outputs": [
    {
     "name": "stdout",
     "output_type": "stream",
     "text": [
      "enter the kids name here: abby\n",
      "i got it\n",
      "enter the kids name here: cody\n",
      "i dont have that kid\n",
      "enter the kids name here: d\n",
      "i dont have that kid\n"
     ]
    }
   ],
   "source": [
    "kids = [\"abby\", \"bob\", \"cathy\"]\n",
    "\n",
    "\n",
    "for ele in range(len(kids)):\n",
    "    name = input(\"enter the kids name here: \")\n",
    "    if name not in kids:                              # not in keyword\n",
    "        print(\"i dont have that kid\")\n",
    "    else:\n",
    "        print(\"i got it\")"
   ]
  },
  {
   "cell_type": "markdown",
   "metadata": {},
   "source": [
    "### Multiple Assignment Trick\n",
    "\n",
    "allows us to assign multiple variables with the values inside a list in one line of code."
   ]
  },
  {
   "cell_type": "code",
   "execution_count": 15,
   "metadata": {},
   "outputs": [],
   "source": [
    "# lenghty way:\n",
    "cat = [\"black\", \"big\", \"stupid\"]\n",
    "\n",
    "colour = cat[0]\n",
    "size = cat[1]\n",
    "intelligence = cat[2]"
   ]
  },
  {
   "cell_type": "code",
   "execution_count": 16,
   "metadata": {},
   "outputs": [],
   "source": [
    "# instead :\n",
    "\n",
    "cat = [\"white\", \"small\", \"smart\"]\n",
    "\n",
    "colour, size, intelligence = cat"
   ]
  },
  {
   "cell_type": "code",
   "execution_count": 17,
   "metadata": {},
   "outputs": [
    {
     "data": {
      "text/plain": [
       "'white'"
      ]
     },
     "execution_count": 17,
     "metadata": {},
     "output_type": "execute_result"
    }
   ],
   "source": [
    "colour"
   ]
  },
  {
   "cell_type": "code",
   "execution_count": 18,
   "metadata": {},
   "outputs": [
    {
     "data": {
      "text/plain": [
       "'small'"
      ]
     },
     "execution_count": 18,
     "metadata": {},
     "output_type": "execute_result"
    }
   ],
   "source": [
    "size"
   ]
  },
  {
   "cell_type": "code",
   "execution_count": 19,
   "metadata": {},
   "outputs": [
    {
     "data": {
      "text/plain": [
       "'smart'"
      ]
     },
     "execution_count": 19,
     "metadata": {},
     "output_type": "execute_result"
    }
   ],
   "source": [
    "intelligence"
   ]
  },
  {
   "cell_type": "code",
   "execution_count": 20,
   "metadata": {},
   "outputs": [
    {
     "data": {
      "text/plain": [
       "0"
      ]
     },
     "execution_count": 20,
     "metadata": {},
     "output_type": "execute_result"
    }
   ],
   "source": [
    "# the .index() method is used on a list and is used to find the index position of any values inside a list.\n",
    "listt = [\"a\", \"b\", \"c\", \"d\", \"e\"]\n",
    "\n",
    "listt.index(\"a\")"
   ]
  },
  {
   "cell_type": "code",
   "execution_count": 21,
   "metadata": {},
   "outputs": [],
   "source": [
    "number = listt.index(\"d\")"
   ]
  },
  {
   "cell_type": "code",
   "execution_count": 22,
   "metadata": {},
   "outputs": [
    {
     "data": {
      "text/plain": [
       "3"
      ]
     },
     "execution_count": 22,
     "metadata": {},
     "output_type": "execute_result"
    }
   ],
   "source": [
    "number"
   ]
  },
  {
   "cell_type": "code",
   "execution_count": 23,
   "metadata": {},
   "outputs": [],
   "source": [
    "listt.append(\"f\")  # this dosent return any value. "
   ]
  },
  {
   "cell_type": "code",
   "execution_count": 24,
   "metadata": {},
   "outputs": [
    {
     "data": {
      "text/plain": [
       "['a', 'b', 'c', 'd', 'e', 'f']"
      ]
     },
     "execution_count": 24,
     "metadata": {},
     "output_type": "execute_result"
    }
   ],
   "source": [
    "listt"
   ]
  },
  {
   "cell_type": "code",
   "execution_count": 26,
   "metadata": {},
   "outputs": [],
   "source": [
    "del listt[2]"
   ]
  },
  {
   "cell_type": "code",
   "execution_count": 27,
   "metadata": {},
   "outputs": [
    {
     "data": {
      "text/plain": [
       "['a', 'b', 'd', 'e', 'f']"
      ]
     },
     "execution_count": 27,
     "metadata": {},
     "output_type": "execute_result"
    }
   ],
   "source": [
    "listt"
   ]
  },
  {
   "cell_type": "code",
   "execution_count": 28,
   "metadata": {},
   "outputs": [],
   "source": [
    "# we can make a list extend upto multiple lines for convinience if the values inside the list are large:\n",
    "\n",
    "sentance_list = [\"hi how are you\",\n",
    "                \"when will i see you again\",\n",
    "                \"what are you doing today\",\n",
    "                \"what is your name?\"]"
   ]
  },
  {
   "cell_type": "code",
   "execution_count": 29,
   "metadata": {},
   "outputs": [
    {
     "data": {
      "text/plain": [
       "['hi how are you',\n",
       " 'when will i see you again',\n",
       " 'what are you doing today',\n",
       " 'what is your name?']"
      ]
     },
     "execution_count": 29,
     "metadata": {},
     "output_type": "execute_result"
    }
   ],
   "source": [
    "sentance_list"
   ]
  },
  {
   "cell_type": "code",
   "execution_count": 30,
   "metadata": {},
   "outputs": [
    {
     "data": {
      "text/plain": [
       "'what are you doing today'"
      ]
     },
     "execution_count": 30,
     "metadata": {},
     "output_type": "execute_result"
    }
   ],
   "source": [
    "sentance_list[2]"
   ]
  },
  {
   "cell_type": "code",
   "execution_count": 31,
   "metadata": {},
   "outputs": [],
   "source": [
    "# if we have only one value inside a tuple, write is as:\n",
    "\n",
    "my_tuple = (\"teddy\",)\n",
    "\n",
    "# if we dont use the comma in the end, python will treat my_tuple as a string inside () which is a string."
   ]
  },
  {
   "cell_type": "code",
   "execution_count": 32,
   "metadata": {},
   "outputs": [
    {
     "data": {
      "text/plain": [
       "tuple"
      ]
     },
     "execution_count": 32,
     "metadata": {},
     "output_type": "execute_result"
    }
   ],
   "source": [
    "type(my_tuple)"
   ]
  },
  {
   "cell_type": "code",
   "execution_count": 34,
   "metadata": {},
   "outputs": [],
   "source": [
    "x = (\"teddy\")\n"
   ]
  },
  {
   "cell_type": "code",
   "execution_count": 35,
   "metadata": {},
   "outputs": [
    {
     "data": {
      "text/plain": [
       "str"
      ]
     },
     "execution_count": 35,
     "metadata": {},
     "output_type": "execute_result"
    }
   ],
   "source": [
    "type(x)"
   ]
  },
  {
   "cell_type": "code",
   "execution_count": 36,
   "metadata": {},
   "outputs": [
    {
     "data": {
      "text/plain": [
       "('a', 'b', 'd', 'e', 'f')"
      ]
     },
     "execution_count": 36,
     "metadata": {},
     "output_type": "execute_result"
    }
   ],
   "source": [
    "tuple(listt)"
   ]
  },
  {
   "cell_type": "code",
   "execution_count": null,
   "metadata": {},
   "outputs": [],
   "source": []
  }
 ],
 "metadata": {
  "kernelspec": {
   "display_name": "Python 3",
   "language": "python",
   "name": "python3"
  },
  "language_info": {
   "codemirror_mode": {
    "name": "ipython",
    "version": 3
   },
   "file_extension": ".py",
   "mimetype": "text/x-python",
   "name": "python",
   "nbconvert_exporter": "python",
   "pygments_lexer": "ipython3",
   "version": "3.8.3"
  }
 },
 "nbformat": 4,
 "nbformat_minor": 4
}
