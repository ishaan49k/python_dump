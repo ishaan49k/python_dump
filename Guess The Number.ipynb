{
 "cells": [
  {
   "cell_type": "code",
   "execution_count": 5,
   "metadata": {},
   "outputs": [
    {
     "name": "stdout",
     "output_type": "stream",
     "text": [
      "I'm thinking of a number bw 1 and 20\n",
      "Take a guess\n",
      "enetr guess here1\n",
      "guess to low\n",
      "Take a guess\n",
      "enetr guess here20\n",
      "guess to high\n",
      "Take a guess\n",
      "enetr guess here15\n",
      "guess to high\n",
      "Take a guess\n",
      "enetr guess here12\n",
      "guess to high\n",
      "Take a guess\n",
      "enetr guess here6\n",
      "guess to high\n",
      "Take a guess\n",
      "enetr guess here4\n",
      "good job!\n"
     ]
    }
   ],
   "source": [
    "from random import randint\n",
    "\n",
    "secret_number = randint(1, 21)    # this is a global variable\n",
    "print(\"I'm thinking of a number bw 1 and 20\")\n",
    "\n",
    "# ask the player to guess maximum 6 times\n",
    "\n",
    "for guess_chance in range(1, 7):         \n",
    "    print(\"Take a guess\")\n",
    "    guess = int(input(\"enetr guess here\"))\n",
    "    \n",
    "    if guess < secret_number:\n",
    "        print(\"guess to low\")\n",
    "    elif guess > secret_number:\n",
    "        print(\"guess to high\")\n",
    "    else:\n",
    "        break\n",
    "        \n",
    "if guess == secret_number:\n",
    "    print(\"good job!\")\n",
    "else:\n",
    "    print(\"nope, the number was: \" + str(secret_number))"
   ]
  },
  {
   "cell_type": "code",
   "execution_count": null,
   "metadata": {},
   "outputs": [],
   "source": []
  }
 ],
 "metadata": {
  "kernelspec": {
   "display_name": "Python 3",
   "language": "python",
   "name": "python3"
  },
  "language_info": {
   "codemirror_mode": {
    "name": "ipython",
    "version": 3
   },
   "file_extension": ".py",
   "mimetype": "text/x-python",
   "name": "python",
   "nbconvert_exporter": "python",
   "pygments_lexer": "ipython3",
   "version": "3.8.3"
  }
 },
 "nbformat": 4,
 "nbformat_minor": 4
}
