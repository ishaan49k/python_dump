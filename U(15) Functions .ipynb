{
 "cells": [
  {
   "cell_type": "markdown",
   "metadata": {},
   "source": [
    "Functions allow us to create blocks of code that can be easily executed many times, without needing to constantly rewrite the entire block of code.\n",
    "\n",
    "Functions will be a huge leap forward in your capabilities as a python programmer."
   ]
  },
  {
   "cell_type": "markdown",
   "metadata": {},
   "source": [
    "creating a function requires a very specfic syntax, incuding a def keyword, correct indentation and proper structure:\n",
    "\n",
    "def name_of_function():                            (this is called snake casing where all small letters and _ bw the words)\n",
    "    \n",
    "    everything inside the indented space is part of the function.\n",
    "    \n",
    "    write code for what function should do.\n",
    "    \n",
    "to call the function:\n",
    "\n",
    "name_of_function()\n",
    "    \n"
   ]
  },
  {
   "cell_type": "code",
   "execution_count": 4,
   "metadata": {},
   "outputs": [],
   "source": [
    "def name_function(name):\n",
    "    print(\"hello \" + name)"
   ]
  },
  {
   "cell_type": "code",
   "execution_count": 5,
   "metadata": {},
   "outputs": [
    {
     "name": "stdout",
     "output_type": "stream",
     "text": [
      "hello sam\n"
     ]
    }
   ],
   "source": [
    "name_function(\"sam\")"
   ]
  },
  {
   "cell_type": "markdown",
   "metadata": {},
   "source": [
    "Normally we use the return keyword to send back the result of the function.\n",
    "\n",
    "return allows us to assign the output of the function to a new variable.  RRRRRRRRRRRRRRRRRRRRRRRRRRRR"
   ]
  },
  {
   "cell_type": "code",
   "execution_count": 6,
   "metadata": {},
   "outputs": [
    {
     "data": {
      "text/plain": [
       "function"
      ]
     },
     "execution_count": 6,
     "metadata": {},
     "output_type": "execute_result"
    }
   ],
   "source": [
    "type(name_function)"
   ]
  },
  {
   "cell_type": "code",
   "execution_count": 7,
   "metadata": {},
   "outputs": [],
   "source": [
    "def say_hello(name):\n",
    "    print(f\"hello {name}\")"
   ]
  },
  {
   "cell_type": "code",
   "execution_count": 9,
   "metadata": {},
   "outputs": [
    {
     "name": "stdout",
     "output_type": "stream",
     "text": [
      "hello conor\n"
     ]
    }
   ],
   "source": [
    "say_hello(\"conor\")"
   ]
  },
  {
   "cell_type": "code",
   "execution_count": 11,
   "metadata": {},
   "outputs": [],
   "source": [
    "# to set a default entry into the function so that when the function is called without an argument, we dont get an error:\n",
    "\n",
    "def age_function(age = \"default\"):  # now if we call the function without argument like age_function(), no error will occur\n",
    "    print(f\"your age is {age}\")"
   ]
  },
  {
   "cell_type": "code",
   "execution_count": 12,
   "metadata": {},
   "outputs": [
    {
     "name": "stdout",
     "output_type": "stream",
     "text": [
      "your age is default\n"
     ]
    }
   ],
   "source": [
    "age_function()"
   ]
  },
  {
   "cell_type": "code",
   "execution_count": 13,
   "metadata": {},
   "outputs": [
    {
     "name": "stdout",
     "output_type": "stream",
     "text": [
      "your age is 12\n"
     ]
    }
   ],
   "source": [
    "age_function(12)"
   ]
  },
  {
   "cell_type": "code",
   "execution_count": 14,
   "metadata": {},
   "outputs": [],
   "source": [
    "def add_fxn(num1, num2):\n",
    "    return num1 + num2"
   ]
  },
  {
   "cell_type": "code",
   "execution_count": 15,
   "metadata": {},
   "outputs": [],
   "source": [
    "a = add_fxn(10, 20)"
   ]
  },
  {
   "cell_type": "code",
   "execution_count": 16,
   "metadata": {},
   "outputs": [
    {
     "name": "stdout",
     "output_type": "stream",
     "text": [
      "30\n"
     ]
    }
   ],
   "source": [
    "print(a)"
   ]
  },
  {
   "cell_type": "markdown",
   "metadata": {},
   "source": [
    "in functions, the main difference between a print and a return is that return allows us to assign the returned value to a new vaiable."
   ]
  },
  {
   "cell_type": "code",
   "execution_count": 17,
   "metadata": {},
   "outputs": [
    {
     "data": {
      "text/plain": [
       "'1020'"
      ]
     },
     "execution_count": 17,
     "metadata": {},
     "output_type": "execute_result"
    }
   ],
   "source": [
    "add_fxn(\"10\", \"20\")"
   ]
  },
  {
   "cell_type": "raw",
   "metadata": {},
   "source": [
    "above, we entered the numbers in string form. so the function will treat them like strings and return a concatonated string. This is allowed in python as no where in the function, we have mentioned what the input data type should be, ie int or strings etc. In other languages which are staticly types, we have to specify the data type of the entry but since python is dynamicly typed, we dont have to specify the data type on the entry into the function."
   ]
  }
 ],
 "metadata": {
  "kernelspec": {
   "display_name": "Python 3",
   "language": "python",
   "name": "python3"
  },
  "language_info": {
   "codemirror_mode": {
    "name": "ipython",
    "version": 3
   },
   "file_extension": ".py",
   "mimetype": "text/x-python",
   "name": "python",
   "nbconvert_exporter": "python",
   "pygments_lexer": "ipython3",
   "version": "3.8.3"
  }
 },
 "nbformat": 4,
 "nbformat_minor": 4
}
