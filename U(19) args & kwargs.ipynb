{
 "cells": [
  {
   "cell_type": "markdown",
   "metadata": {},
   "source": [
    " *args and **kwargs are functional parametres\n",
    "\n",
    "args = arguments\n",
    "\n",
    "kwargs = key word arguments\n",
    "\n",
    "used to make functions accept any number of arguments without having to predefine default inputs."
   ]
  },
  {
   "cell_type": "code",
   "execution_count": 5,
   "metadata": {},
   "outputs": [],
   "source": [
    "def func1(a, b):\n",
    "    return sum((a, b))  # inside the sum fxn, we need to pass the numbers as tuples."
   ]
  },
  {
   "cell_type": "code",
   "execution_count": 6,
   "metadata": {},
   "outputs": [
    {
     "data": {
      "text/plain": [
       "4"
      ]
     },
     "execution_count": 6,
     "metadata": {},
     "output_type": "execute_result"
    }
   ],
   "source": [
    "func1(1, 3)"
   ]
  },
  {
   "cell_type": "code",
   "execution_count": 7,
   "metadata": {},
   "outputs": [],
   "source": [
    "# now to question arises. wt if we want to input more parametres (numbers in this case) into the function.\n",
    "\n",
    "# positional arguments:\n",
    "# in above fxn, a = 1 cuz 1 came first and b = 3 as 3 is the second input.\n",
    "\n",
    "def func2(a, b, c = 0, d = 0):\n",
    "    return sum((a, b, c, d))"
   ]
  },
  {
   "cell_type": "code",
   "execution_count": 8,
   "metadata": {},
   "outputs": [
    {
     "data": {
      "text/plain": [
       "4"
      ]
     },
     "execution_count": 8,
     "metadata": {},
     "output_type": "execute_result"
    }
   ],
   "source": [
    "func2(1, 3)"
   ]
  },
  {
   "cell_type": "code",
   "execution_count": 9,
   "metadata": {},
   "outputs": [
    {
     "data": {
      "text/plain": [
       "10"
      ]
     },
     "execution_count": 9,
     "metadata": {},
     "output_type": "execute_result"
    }
   ],
   "source": [
    "func2(1, 2, 3, 4)"
   ]
  },
  {
   "cell_type": "code",
   "execution_count": 10,
   "metadata": {},
   "outputs": [
    {
     "ename": "TypeError",
     "evalue": "func2() takes from 2 to 4 positional arguments but 5 were given",
     "output_type": "error",
     "traceback": [
      "\u001b[1;31m---------------------------------------------------------------------------\u001b[0m",
      "\u001b[1;31mTypeError\u001b[0m                                 Traceback (most recent call last)",
      "\u001b[1;32m<ipython-input-10-a4baa4aa5103>\u001b[0m in \u001b[0;36m<module>\u001b[1;34m\u001b[0m\n\u001b[0;32m      2\u001b[0m \u001b[1;33m\u001b[0m\u001b[0m\n\u001b[0;32m      3\u001b[0m \u001b[1;31m# if we input more numbers than the number of parametres defined then we get an error.\u001b[0m\u001b[1;33m\u001b[0m\u001b[1;33m\u001b[0m\u001b[1;33m\u001b[0m\u001b[0m\n\u001b[1;32m----> 4\u001b[1;33m \u001b[0mfunc2\u001b[0m\u001b[1;33m(\u001b[0m\u001b[1;36m1\u001b[0m\u001b[1;33m,\u001b[0m \u001b[1;36m2\u001b[0m\u001b[1;33m,\u001b[0m \u001b[1;36m3\u001b[0m\u001b[1;33m,\u001b[0m \u001b[1;36m4\u001b[0m\u001b[1;33m,\u001b[0m \u001b[1;36m5\u001b[0m\u001b[1;33m)\u001b[0m\u001b[1;33m\u001b[0m\u001b[1;33m\u001b[0m\u001b[0m\n\u001b[0m",
      "\u001b[1;31mTypeError\u001b[0m: func2() takes from 2 to 4 positional arguments but 5 were given"
     ]
    }
   ],
   "source": [
    "# in func2, we defined two more arguments c and d which take default value 0\n",
    "\n",
    "# if we input more numbers than the number of arguments defined then we get an error.\n",
    "func2(1, 2, 3, 4, 5)"
   ]
  },
  {
   "cell_type": "code",
   "execution_count": 11,
   "metadata": {},
   "outputs": [],
   "source": [
    "# this is where we use *args. It allows us to input any number of arguments without having to set default arguments."
   ]
  },
  {
   "cell_type": "code",
   "execution_count": 15,
   "metadata": {},
   "outputs": [],
   "source": [
    "def func3(*args):         # in *args, args is a treated as a tuple of arguments \n",
    "    return sum(args)"
   ]
  },
  {
   "cell_type": "code",
   "execution_count": 16,
   "metadata": {},
   "outputs": [
    {
     "data": {
      "text/plain": [
       "15"
      ]
     },
     "execution_count": 16,
     "metadata": {},
     "output_type": "execute_result"
    }
   ],
   "source": [
    "func3(1, 2, 3, 4, 5,)"
   ]
  },
  {
   "cell_type": "code",
   "execution_count": 19,
   "metadata": {},
   "outputs": [],
   "source": [
    "# python will take all the input arguments and set them to be a tuple.\n",
    "\n",
    "def fxn1(*args):\n",
    "    print(args)\n",
    "    \n",
    "# args is a tuple of input arguments, the fxn will return the tuple.\n",
    "# hence using args, we get a tuple of arguments and we can play around with the tuple within the function."
   ]
  },
  {
   "cell_type": "code",
   "execution_count": 20,
   "metadata": {},
   "outputs": [
    {
     "name": "stdout",
     "output_type": "stream",
     "text": [
      "(1, 2, 3, 4)\n"
     ]
    }
   ],
   "source": [
    "fxn1(1, 2, 3, 4)"
   ]
  },
  {
   "cell_type": "markdown",
   "metadata": {},
   "source": [
    "just like handling an arbitary number of arguments using *args, we can handle an arbitary number of key-word arguments using **kwargs. just like *args builds a tuple of inputs, **kwargs builds a dictionary of key value pairs."
   ]
  },
  {
   "cell_type": "code",
   "execution_count": 1,
   "metadata": {},
   "outputs": [],
   "source": [
    "def func4(**kwargs):\n",
    "    if \"fruit\" in kwargs:                                 \n",
    "        print(f\"my fruit of choise is {kwargs['fruit']}\")\n",
    "        print(kwargs)\n",
    "    else:\n",
    "        print(\"i dint find any fruits.\")\n",
    "        \n",
    "# kwargs is a dictionary. kwargs['fruit'] is the value of fruit in the key value pair of dictioanry kwargs."
   ]
  },
  {
   "cell_type": "code",
   "execution_count": 2,
   "metadata": {},
   "outputs": [],
   "source": [
    "# example of key word arguments:\n",
    "# fruit = \"apple\", laptop = \"macbook\", these are key word arguments"
   ]
  },
  {
   "cell_type": "code",
   "execution_count": 3,
   "metadata": {},
   "outputs": [
    {
     "name": "stdout",
     "output_type": "stream",
     "text": [
      "my fruit of choise is apple\n",
      "{'fruit': 'apple'}\n"
     ]
    }
   ],
   "source": [
    "func4(fruit = \"apple\")"
   ]
  },
  {
   "cell_type": "code",
   "execution_count": 26,
   "metadata": {},
   "outputs": [
    {
     "name": "stdout",
     "output_type": "stream",
     "text": [
      "my fruit of choise is grape\n"
     ]
    }
   ],
   "source": [
    "func4(fruit = \"grape\", laptop = \"macbook\")"
   ]
  },
  {
   "cell_type": "code",
   "execution_count": 27,
   "metadata": {},
   "outputs": [
    {
     "name": "stdout",
     "output_type": "stream",
     "text": [
      "i dint find any fruits.\n"
     ]
    }
   ],
   "source": [
    "func4(bottle = \"tupperware\")"
   ]
  },
  {
   "cell_type": "code",
   "execution_count": 30,
   "metadata": {},
   "outputs": [],
   "source": [
    "# hence **kwargs will convert the key value pairs into a dictionary:\n",
    "def func5(**kwargs):\n",
    "    print(kwargs)"
   ]
  },
  {
   "cell_type": "code",
   "execution_count": 31,
   "metadata": {},
   "outputs": [
    {
     "name": "stdout",
     "output_type": "stream",
     "text": [
      "{'fruit': 'apple', 'school': 'amity', 'country': 'India'}\n"
     ]
    }
   ],
   "source": [
    "func5(fruit = \"apple\", school = \"amity\", country = \"India\")"
   ]
  },
  {
   "cell_type": "code",
   "execution_count": 37,
   "metadata": {},
   "outputs": [],
   "source": [
    "# above, we see that kwargs is a dictioary made from the input key value pairs"
   ]
  },
  {
   "cell_type": "code",
   "execution_count": 38,
   "metadata": {},
   "outputs": [],
   "source": [
    "# we can use *args ans **kwargs together in a function\n",
    "\n",
    "def func6(*args, **kwargs):\n",
    "    print(f\"I want {args[3]} {kwargs['food']}\")"
   ]
  },
  {
   "cell_type": "code",
   "execution_count": 40,
   "metadata": {},
   "outputs": [
    {
     "name": "stdout",
     "output_type": "stream",
     "text": [
      "I want 4 banana\n"
     ]
    }
   ],
   "source": [
    "func6(1, 2, 3, 4, 5, city = \"new delhi\", food = \"banana\", car = \"bentley\")"
   ]
  },
  {
   "cell_type": "code",
   "execution_count": 4,
   "metadata": {},
   "outputs": [],
   "source": [
    "# we can use both args and kwargs inside a fuction"
   ]
  },
  {
   "cell_type": "code",
   "execution_count": null,
   "metadata": {},
   "outputs": [],
   "source": []
  }
 ],
 "metadata": {
  "kernelspec": {
   "display_name": "Python 3",
   "language": "python",
   "name": "python3"
  },
  "language_info": {
   "codemirror_mode": {
    "name": "ipython",
    "version": 3
   },
   "file_extension": ".py",
   "mimetype": "text/x-python",
   "name": "python",
   "nbconvert_exporter": "python",
   "pygments_lexer": "ipython3",
   "version": "3.8.3"
  }
 },
 "nbformat": 4,
 "nbformat_minor": 4
}
