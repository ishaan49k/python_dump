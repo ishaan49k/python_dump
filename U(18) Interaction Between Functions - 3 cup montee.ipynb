{
 "cells": [
  {
   "cell_type": "markdown",
   "metadata": {},
   "source": [
    "typically a python script or a python notebook contains several functions interacting with each other.\n",
    "\n",
    "we take the output from one function and use it as input for another function.\n",
    "\n",
    "# Function to mimic the carnival game \"3 cup monte\"\n",
    "\n",
    "our game wont actually show the balls or the cup. Instead will use an empty list with 2 empty strings and an \"O\" to mimic the cups and the ball.\n",
    "\n",
    "our game wont show the shuffling process also. the guess will be completely random"
   ]
  },
  {
   "cell_type": "code",
   "execution_count": 2,
   "metadata": {},
   "outputs": [],
   "source": [
    "# to shuffle the list:\n",
    "examplelist = [1, 2, 3, 4, 5, 6]"
   ]
  },
  {
   "cell_type": "code",
   "execution_count": 3,
   "metadata": {},
   "outputs": [],
   "source": [
    "from random import shuffle"
   ]
  },
  {
   "cell_type": "code",
   "execution_count": 4,
   "metadata": {},
   "outputs": [],
   "source": [
    "shuffle(examplelist)   # this shuffle dosent return anything. so we cant assign it to a variable."
   ]
  },
  {
   "cell_type": "code",
   "execution_count": 5,
   "metadata": {},
   "outputs": [
    {
     "data": {
      "text/plain": [
       "[3, 5, 2, 6, 4, 1]"
      ]
     },
     "execution_count": 5,
     "metadata": {},
     "output_type": "execute_result"
    }
   ],
   "source": [
    "examplelist"
   ]
  },
  {
   "cell_type": "code",
   "execution_count": 6,
   "metadata": {},
   "outputs": [],
   "source": [
    "#(1) define a function that returns a shuffled list which can be assigned to a variable.\n",
    "\n",
    "def shuffle_list(game_list):   # FIRST FUNCTION\n",
    "    shuffle(game_list)      # when list goes in, the fxn will shuffle the list\n",
    "    return game_list        # the shuffled list is returned as output"
   ]
  },
  {
   "cell_type": "code",
   "execution_count": 7,
   "metadata": {},
   "outputs": [],
   "source": [
    "a = shuffle_list(examplelist)"
   ]
  },
  {
   "cell_type": "code",
   "execution_count": 8,
   "metadata": {},
   "outputs": [
    {
     "data": {
      "text/plain": [
       "[6, 1, 5, 2, 4, 3]"
      ]
     },
     "execution_count": 8,
     "metadata": {},
     "output_type": "execute_result"
    }
   ],
   "source": [
    "a"
   ]
  },
  {
   "cell_type": "code",
   "execution_count": 9,
   "metadata": {},
   "outputs": [],
   "source": [
    "# now to create the game:\n",
    "\n",
    "game_list = [\"\", \"O\", \"\"]"
   ]
  },
  {
   "cell_type": "code",
   "execution_count": 10,
   "metadata": {},
   "outputs": [],
   "source": [
    "# we need a fxn that can take in a player guess.\n",
    "# after the game_list has been shuffled, the user will try to guess the posion of the ball.\n",
    "\n",
    "\n",
    "\n",
    "def player_guess():    # SECOND FUNCTION\n",
    "    guess = \"\"        # empty placeholder variable. The player can guess the position of ball using indexes.\n",
    "    while guess not in [\"0\", \"1\", \"2\"]:            # we use strings as input always returns a string\n",
    "        guess = input(\"prick a number: 0, 1 or 2: \")  #Input always and always returns a string\n",
    "    return int(guess)"
   ]
  },
  {
   "cell_type": "code",
   "execution_count": 11,
   "metadata": {},
   "outputs": [
    {
     "name": "stdout",
     "output_type": "stream",
     "text": [
      "prick a number: 0, 1 or 2: \n",
      "prick a number: 0, 1 or 2: 1\n"
     ]
    },
    {
     "data": {
      "text/plain": [
       "1"
      ]
     },
     "execution_count": 11,
     "metadata": {},
     "output_type": "execute_result"
    }
   ],
   "source": [
    "player_guess()\n",
    "# when we call this function and input a number which is 0, 1 or 2, the input window comes up again due to the while loop."
   ]
  },
  {
   "cell_type": "code",
   "execution_count": 12,
   "metadata": {},
   "outputs": [
    {
     "name": "stdout",
     "output_type": "stream",
     "text": [
      "prick a number: 0, 1 or 2: \n",
      "prick a number: 0, 1 or 2: 2\n"
     ]
    }
   ],
   "source": [
    "# we can assign the player_guess number to a variable cuz the index number is being returned by the function.\n",
    "\n",
    "player_index = player_guess()"
   ]
  },
  {
   "cell_type": "code",
   "execution_count": 13,
   "metadata": {},
   "outputs": [
    {
     "data": {
      "text/plain": [
       "2"
      ]
     },
     "execution_count": 13,
     "metadata": {},
     "output_type": "execute_result"
    }
   ],
   "source": [
    "player_index"
   ]
  },
  {
   "cell_type": "code",
   "execution_count": 14,
   "metadata": {},
   "outputs": [],
   "source": [
    "# THIRD FUNCTION needed to combine the shuffled list and the player guess to check if guess is correct or wrong.\n",
    "\n",
    "def check_guess(game_list, guess):\n",
    "    if game_list[guess] == \"O\":       # if the index position of shuffled gamelist = \"0\", then correct guess.\n",
    "        print(\"correct\")\n",
    "        print(game_list)\n",
    "    else:\n",
    "        print(\"wrong guess\")\n",
    "        print(game_list)             # this is to tell the player where the ball actaully was."
   ]
  },
  {
   "cell_type": "code",
   "execution_count": 16,
   "metadata": {},
   "outputs": [
    {
     "name": "stdout",
     "output_type": "stream",
     "text": [
      "prick a number: 0, 1 or 2: 1\n",
      "correct\n",
      "['', 'O', '']\n"
     ]
    }
   ],
   "source": [
    "# when many functions are interacting, it is important to call the functions in the right order.\n",
    "\n",
    "#(1) INITIAL LIST\n",
    "game_list = [\"\", \"O\", \"\"]\n",
    "\n",
    "#(2) SHUFFLE LIST\n",
    "shuffled_game_list = shuffle_list(game_list)  #the shuffled game_list obtained when we put gamelist in the shuffle list fxn\n",
    "\n",
    "#(3) USER GUESS\n",
    "guess = player_guess() #the guess is the result of player_guess fxn\n",
    "\n",
    "#(4) CHECK GUESS\n",
    "check_guess(shuffled_game_list, guess)"
   ]
  },
  {
   "cell_type": "code",
   "execution_count": null,
   "metadata": {},
   "outputs": [],
   "source": []
  }
 ],
 "metadata": {
  "kernelspec": {
   "display_name": "Python 3",
   "language": "python",
   "name": "python3"
  },
  "language_info": {
   "codemirror_mode": {
    "name": "ipython",
    "version": 3
   },
   "file_extension": ".py",
   "mimetype": "text/x-python",
   "name": "python",
   "nbconvert_exporter": "python",
   "pygments_lexer": "ipython3",
   "version": "3.8.3"
  }
 },
 "nbformat": 4,
 "nbformat_minor": 4
}
