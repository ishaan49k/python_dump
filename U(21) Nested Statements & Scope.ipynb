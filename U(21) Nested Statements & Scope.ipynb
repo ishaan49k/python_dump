{
 "cells": [
  {
   "cell_type": "markdown",
   "metadata": {},
   "source": [
    "when we create a variable in python, then that variable is stored in the name space. variables also have a scope which determines the visibility of the variable to other parts of the code.\n",
    "\n",
    "this is to learn why we get the error 'this variable is not defined' occurs and how to fix it"
   ]
  },
  {
   "cell_type": "code",
   "execution_count": 1,
   "metadata": {},
   "outputs": [],
   "source": [
    "x = 25\n",
    "\n",
    "def printer():\n",
    "    x = 50            # the printer function will assign 50 to x\n",
    "    return x          "
   ]
  },
  {
   "cell_type": "code",
   "execution_count": 2,
   "metadata": {},
   "outputs": [
    {
     "name": "stdout",
     "output_type": "stream",
     "text": [
      "25\n"
     ]
    }
   ],
   "source": [
    "print(x)"
   ]
  },
  {
   "cell_type": "code",
   "execution_count": 3,
   "metadata": {},
   "outputs": [
    {
     "name": "stdout",
     "output_type": "stream",
     "text": [
      "50\n"
     ]
    }
   ],
   "source": [
    "print(printer())"
   ]
  },
  {
   "cell_type": "code",
   "execution_count": null,
   "metadata": {},
   "outputs": [],
   "source": [
    "# MAIN QUESTION: how does python know which x is being refered to in the code.\n",
    "\n",
    "#this is because the idea of scope allows python to have a set of rules which determines which variable is being refered to"
   ]
  },
  {
   "cell_type": "markdown",
   "metadata": {},
   "source": [
    "# LEGB Rule:\n",
    "\n",
    "(1) L: Local - Names assigned in any way within a function (def or lambda), and not declared global in that function.\n",
    "\n",
    "(2) E: Enclosing function locals - Names in the local scope of any and all enclosing functions (def or lambda), from inner to outer.\n",
    "\n",
    "(3) G: Global (module) - Names assigned at the top-level of a module file, or declared global in a def within the file.\n",
    "\n",
    "(4) B: Built-In (Python) - Names preassigned in the built-in names module: open, range, SyntaxError etc.\n"
   ]
  },
  {
   "cell_type": "code",
   "execution_count": 4,
   "metadata": {},
   "outputs": [],
   "source": [
    "# this is the order in which python is going to look for variables in."
   ]
  },
  {
   "cell_type": "code",
   "execution_count": 6,
   "metadata": {},
   "outputs": [
    {
     "data": {
      "text/plain": [
       "<function __main__.<lambda>(num)>"
      ]
     },
     "execution_count": 6,
     "metadata": {},
     "output_type": "execute_result"
    }
   ],
   "source": [
    "# LOCAL\n",
    "\n",
    "lambda num: num ** 2\n",
    "\n",
    "# here num is a variable which is local to the lambda expression"
   ]
  },
  {
   "cell_type": "code",
   "execution_count": 12,
   "metadata": {},
   "outputs": [
    {
     "name": "stdout",
     "output_type": "stream",
     "text": [
      "hello Sammy\n"
     ]
    }
   ],
   "source": [
    "# Enclosing function locals\n",
    "# in this, one function is inside another function\n",
    "\n",
    "name = \"This is a Global String\"\n",
    "\n",
    "def greet():\n",
    "    name = \"Sammy\"          # we are overwriting the global name variable inside the function\n",
    "    def hello():\n",
    "        print(\"hello \" + name)\n",
    "    hello()\n",
    "    \n",
    "greet()"
   ]
  },
  {
   "cell_type": "markdown",
   "metadata": {},
   "source": [
    "above, there are 2 variables name. one global string and one defined inside the function. when we call greet() then since hello fxn is inside it, even the hello function is called. so when we call greet(), it defines name = sammy, then it defines the fxn hello and then it calls the fxn hello."
   ]
  },
  {
   "cell_type": "markdown",
   "metadata": {},
   "source": [
    "the final use of name is to print \"hello \" + name.\n",
    "so the hello fxn first looks itside itself (local) to see it there is name defines. it isent, so it moves to enclosing function where it finds name defined. the fxn then uses this value of name."
   ]
  },
  {
   "cell_type": "code",
   "execution_count": 13,
   "metadata": {},
   "outputs": [
    {
     "name": "stdout",
     "output_type": "stream",
     "text": [
      "hello This is a Global String\n"
     ]
    }
   ],
   "source": [
    "name = \"This is a Global String\"\n",
    "\n",
    "def greet():          \n",
    "    def hello():\n",
    "        print(\"hello \" + name)\n",
    "    hello()\n",
    "    \n",
    "greet()"
   ]
  },
  {
   "cell_type": "code",
   "execution_count": 14,
   "metadata": {},
   "outputs": [],
   "source": [
    "# here there is no variable defined in enclosing fxn so the fxn moves to the global level to check for name."
   ]
  },
  {
   "cell_type": "code",
   "execution_count": 15,
   "metadata": {},
   "outputs": [
    {
     "name": "stdout",
     "output_type": "stream",
     "text": [
      "hello local name\n"
     ]
    }
   ],
   "source": [
    "# if we defines name in local level:\n",
    "\n",
    "name = \"This is a Global String\"\n",
    "\n",
    "def greet():\n",
    "    name = \"Sammy\"          \n",
    "    def hello():\n",
    "        name = \"local name\"\n",
    "        print(\"hello \" + name)\n",
    "    hello()\n",
    "    \n",
    "greet()"
   ]
  },
  {
   "cell_type": "code",
   "execution_count": 16,
   "metadata": {},
   "outputs": [],
   "source": [
    "# here the name is defined locally itself within the fxn hello."
   ]
  },
  {
   "cell_type": "markdown",
   "metadata": {},
   "source": [
    "global variables are identified by having no indentation, it starts all the way from the left."
   ]
  },
  {
   "cell_type": "code",
   "execution_count": null,
   "metadata": {},
   "outputs": [],
   "source": []
  },
  {
   "cell_type": "code",
   "execution_count": 22,
   "metadata": {},
   "outputs": [],
   "source": [
    "x = 50              # this is the global value of x\n",
    "\n",
    "def func(x):\n",
    "    print(f\"the value is {x}\")               # print the global x\n",
    "    #local reassignment\n",
    "    x = 200                                  # assign a new x\n",
    "    print(f\"new assigned value is {x}\")      # print new assigned x"
   ]
  },
  {
   "cell_type": "code",
   "execution_count": 23,
   "metadata": {},
   "outputs": [
    {
     "name": "stdout",
     "output_type": "stream",
     "text": [
      "the value is 50\n",
      "new assigned value is 200\n"
     ]
    }
   ],
   "source": [
    "func(x)"
   ]
  },
  {
   "cell_type": "code",
   "execution_count": 24,
   "metadata": {},
   "outputs": [
    {
     "name": "stdout",
     "output_type": "stream",
     "text": [
      "50\n"
     ]
    }
   ],
   "source": [
    "print(x)"
   ]
  },
  {
   "cell_type": "markdown",
   "metadata": {},
   "source": [
    "on printing x using print(x), we still get back 50 and not 200. this is bacause we have re assigned x to be 200 only in the local space of the function. this local reassignment will have no effect on the global level. hence the scope of the reassigned x is only within the local space of the function."
   ]
  },
  {
   "cell_type": "code",
   "execution_count": 30,
   "metadata": {},
   "outputs": [],
   "source": [
    "# suppose we want to grab the global x and re assign the global x a new value from inside the fxn:\n",
    "#RRRRRRRRRRRRRRRRRRRRRRRRRRRRRRRRRRRRRRRRRRRRRRRRRRRRRRRRRRRRRRRRRRRRRRRRRRRRRRRRRRRRRRRRRRRRRRRRRRRRRRRRRRRRRRRRRRRRRRRRRR\n",
    "x = 50\n",
    "\n",
    "def func2():\n",
    "    global x   # tells python to go to global level and grab the x defined there.\n",
    "    print(f\"the value of x is {x}\")   # since we grabed the global x, wt ever we do inside the fxn will be done on global x\n",
    "    x = \"new value\"                 # since we are dealing with global x, it is global x which is re assigned a value\n",
    "    print(f\"the final value of x is {x}\")"
   ]
  },
  {
   "cell_type": "code",
   "execution_count": null,
   "metadata": {},
   "outputs": [],
   "source": [
    "# if we prin(x) without running the fxn we get 50, but after running the fxn, we get print(x) = new value"
   ]
  },
  {
   "cell_type": "code",
   "execution_count": 31,
   "metadata": {},
   "outputs": [
    {
     "name": "stdout",
     "output_type": "stream",
     "text": [
      "the value of x is 50\n",
      "the final value of x is new value\n"
     ]
    }
   ],
   "source": [
    "func2()"
   ]
  },
  {
   "cell_type": "code",
   "execution_count": 32,
   "metadata": {},
   "outputs": [
    {
     "name": "stdout",
     "output_type": "stream",
     "text": [
      "new value\n"
     ]
    }
   ],
   "source": [
    "print(x)"
   ]
  },
  {
   "cell_type": "code",
   "execution_count": 33,
   "metadata": {},
   "outputs": [
    {
     "name": "stdout",
     "output_type": "stream",
     "text": [
      "new value\n"
     ]
    }
   ],
   "source": [
    "print(x)"
   ]
  },
  {
   "cell_type": "code",
   "execution_count": 34,
   "metadata": {},
   "outputs": [],
   "source": [
    "# beginers should avoid using the global key word as it is hard to debug the code. instead:\n",
    "# if we want to take the global key word inside and afect it, we should take it in as a the fxn's argument\n",
    "\n",
    "y = 100\n",
    "\n",
    "def func3(y):\n",
    "    print(f\"the value of y is {y}\")\n",
    "    y = \"new value\"\n",
    "    print(f\"the final value of y is {y}\")\n",
    "    return y\n",
    "\n",
    "# instead of global keyword, take y in as argument, do reassignment and return the reassigned value\n",
    "    "
   ]
  },
  {
   "cell_type": "code",
   "execution_count": 35,
   "metadata": {},
   "outputs": [
    {
     "name": "stdout",
     "output_type": "stream",
     "text": [
      "100\n"
     ]
    }
   ],
   "source": [
    "print(y)"
   ]
  },
  {
   "cell_type": "code",
   "execution_count": 36,
   "metadata": {},
   "outputs": [
    {
     "name": "stdout",
     "output_type": "stream",
     "text": [
      "the value of y is 100\n",
      "the final value of y is new value\n"
     ]
    }
   ],
   "source": [
    "y = func3(y)  # now the new value of global y = return from the fxn which is the reassigned value"
   ]
  },
  {
   "cell_type": "code",
   "execution_count": 37,
   "metadata": {},
   "outputs": [
    {
     "name": "stdout",
     "output_type": "stream",
     "text": [
      "new value\n"
     ]
    }
   ],
   "source": [
    "print(y)"
   ]
  },
  {
   "cell_type": "code",
   "execution_count": null,
   "metadata": {},
   "outputs": [],
   "source": [
    "# so the y fxn combined with y = func3(y) is the same as using the global key word.\n",
    "# this is much cleaner and much safer."
   ]
  }
 ],
 "metadata": {
  "kernelspec": {
   "display_name": "Python 3",
   "language": "python",
   "name": "python3"
  },
  "language_info": {
   "codemirror_mode": {
    "name": "ipython",
    "version": 3
   },
   "file_extension": ".py",
   "mimetype": "text/x-python",
   "name": "python",
   "nbconvert_exporter": "python",
   "pygments_lexer": "ipython3",
   "version": "3.8.3"
  }
 },
 "nbformat": 4,
 "nbformat_minor": 4
}
